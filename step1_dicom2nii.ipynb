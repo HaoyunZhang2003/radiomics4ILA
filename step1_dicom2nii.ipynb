{
 "cells": [
  {
   "cell_type": "markdown",
   "id": "f7ce999d",
   "metadata": {},
   "source": [
    "# 将下载的压缩包统一解压"
   ]
  },
  {
   "cell_type": "code",
   "execution_count": 1,
   "id": "8d39c5e1",
   "metadata": {},
   "outputs": [],
   "source": [
    "import zipfile\n",
    "import os\n",
    "import SimpleITK as sitk\n",
    "import os\n",
    "import pydicom\n",
    "import nibabel as nib\n",
    "import numpy as np\n",
    "import os\n",
    "import pydicom\n"
   ]
  },
  {
   "cell_type": "code",
   "execution_count": 1,
   "id": "a1ffecad",
   "metadata": {},
   "outputs": [
    {
     "name": "stdout",
     "output_type": "stream",
     "text": [
      "解压完成\n"
     ]
    }
   ],
   "source": [
    "# 指定要解压的ZIP文件所在的文件夹\n",
    "source_folder = r\"G:\\CT\\Fifth Hospital\"\n",
    "\n",
    "# 指定要将ZIP文件解压到的目标文件夹\n",
    "destination_folder = r\"G:\\CT\\Fifth_hospital_processed\\unzip\"\n",
    "\n",
    "# 获取源文件夹中所有的ZIP文件列表\n",
    "zip_files = [f for f in os.listdir(source_folder) if f.endswith('.zip')]\n",
    "\n",
    "# 遍历每个ZIP文件并解压\n",
    "for zip_file in zip_files:\n",
    "    # 构建ZIP文件的完整路径\n",
    "    zip_file_path = os.path.join(source_folder, zip_file)\n",
    "    \n",
    "    # 创建一个与ZIP文件同名的文件夹，用于解压文件\n",
    "    unzip_folder = os.path.splitext(zip_file)[0]\n",
    "    unzip_folder_path = os.path.join(destination_folder, unzip_folder)\n",
    "    os.makedirs(unzip_folder_path, exist_ok=True)\n",
    "    \n",
    "    # 打开ZIP文件并解压到目标文件夹\n",
    "    with zipfile.ZipFile(zip_file_path, 'r') as zip_ref:\n",
    "        zip_ref.extractall(unzip_folder_path)\n",
    "\n",
    "print(\"解压完成\")\n"
   ]
  },
  {
   "cell_type": "markdown",
   "id": "62b6a648",
   "metadata": {},
   "source": [
    "# 基于文件夹大小来选择最高分辨率"
   ]
  },
  {
   "cell_type": "code",
   "execution_count": 3,
   "id": "dc9425b1",
   "metadata": {},
   "outputs": [],
   "source": [
    "\n",
    "def get_folder_size(folder_path):\n",
    "    total_size = 0\n",
    "    for dirpath, dirnames, filenames in os.walk(folder_path):\n",
    "        for filename in filenames:\n",
    "            file_path = os.path.join(dirpath, filename)\n",
    "            total_size += os.path.getsize(file_path)\n",
    "    return total_size\n",
    "\n",
    "# 获取所有子文件夹的列表\n",
    "def find_max(target_directory):\n",
    "\n",
    "    subfolders = [f.path for f in os.scandir(target_directory) if f.is_dir()]\n",
    "\n",
    "# 遍历子文件夹并找到占据内存最大的文件夹\n",
    "    max_size = 0\n",
    "    max_size_folder = None\n",
    "    for folder in subfolders:\n",
    "        folder_size = get_folder_size(folder)\n",
    "        if folder_size > max_size:\n",
    "            max_size = folder_size\n",
    "            max_size_folder = folder\n",
    "    return max_size_folder\n",
    "\n",
    "def get_resolution_and_layers(filepath):\n",
    "    # 初始化分辨率和层数\n",
    "    resolution = None\n",
    "    num_layers = 0\n",
    "    \n",
    "    # 列出文件夹中的所有文件\n",
    "    files = os.listdir(filepath)\n",
    "    \n",
    "    for filename in files:\n",
    "        # 拼接文件路径\n",
    "        file_path = os.path.join(filepath, filename)\n",
    "        if os.path.isfile(file_path):\n",
    "            # 尝试读取DICOM文件\n",
    "            try:\n",
    "                dcm = pydicom.dcmread(file_path)\n",
    "                # 检查是否是图像\n",
    "                if 'PixelData' in dcm:\n",
    "                    num_layers += 1\n",
    "                    # 获取图像的分辨率\n",
    "                    resolution = (dcm.Rows, dcm.Columns)\n",
    "       \n",
    "            except Exception as e:\n",
    "                print(f\"Error reading {file_path}: {str(e)}\")\n",
    "    print(\"File:\",filepath)\n",
    "    print(\"Resolution:\", resolution)\n",
    "    print(\"Number of layers:\", num_layers) \n",
    "    return resolution, num_layers\n",
    "\n"
   ]
  },
  {
   "cell_type": "markdown",
   "id": "4779eb35",
   "metadata": {},
   "source": [
    "### 读取以一个病人的为例"
   ]
  },
  {
   "cell_type": "code",
   "execution_count": null,
   "id": "2ceda0a3",
   "metadata": {},
   "outputs": [],
   "source": [
    "def get_resolution_and_layers(folder_path):\n",
    "    nii_files = [file for file in os.listdir(folder_path) if file.endswith('.nii.gz')]\n",
    "    data_list = []\n",
    "\n",
    "    for nii_file in nii_files:\n",
    "        file_path = os.path.join(folder_path, nii_file)\n",
    "        img = nib.load(file_path)\n",
    "        data = img.get_fdata()\n",
    "        width, height = data.shape[:2]  # 获取最后一层图层的宽度和高度\n",
    "        layers = data.shape[-1]  # 获取图像总共有多少层\n",
    "        resolution = img.header.get_zooms()\n",
    "        \n",
    "        # 将数据添加到列表中\n",
    "        data_list.append([nii_file, file_path, width, height, layers, resolution])\n",
    "\n",
    "    # 创建 DataFrame\n",
    "    df = pd.DataFrame(data_list, columns=['nii_file', 'file_path', 'Width', 'Height', 'Layers', 'Resolution'])\n",
    "    return df"
   ]
  },
  {
   "cell_type": "code",
   "execution_count": 2,
   "id": "4dab9e0f",
   "metadata": {},
   "outputs": [],
   "source": [
    "test_folder=r\"G:\\ILA2024\\ILA2024_dicom\\test_folder\"\n",
    "maxdicom=find_max(test_folder)\n",
    "# 文件夹路径\n",
    "filepath = maxdicom\n",
    "# 获取分辨率和层数\n",
    "resolution, num_layers = get_resolution_and_layers(filepath)"
   ]
  },
  {
   "cell_type": "markdown",
   "id": "140702a0",
   "metadata": {},
   "source": [
    "# 批量处理"
   ]
  },
  {
   "cell_type": "code",
   "execution_count": 4,
   "id": "e0296938",
   "metadata": {},
   "outputs": [],
   "source": [
    "def dic2nii_sitk(path_read, path_save):\n",
    "    reader = sitk.ImageSeriesReader()\n",
    "    seriesIDs = reader.GetGDCMSeriesIDs(path_read)\n",
    "    N = len(seriesIDs)\n",
    "    lens = np.zeros([N])\n",
    "    for i in range(N):\n",
    "        dicom_names = reader.GetGDCMSeriesFileNames(path_read, seriesIDs[i])\n",
    "        lens[i] = len(dicom_names)\n",
    "    N_MAX = np.argmax(lens)\n",
    "    dicom_names = reader.GetGDCMSeriesFileNames(path_read, seriesIDs[N_MAX])\n",
    "    reader.SetFileNames(dicom_names)\n",
    "    image = reader.Execute()\n",
    "    sitk.WriteImage(image, path_save)\n",
    "\n"
   ]
  },
  {
   "cell_type": "code",
   "execution_count": 5,
   "id": "0580a4fe",
   "metadata": {},
   "outputs": [
    {
     "name": "stdout",
     "output_type": "stream",
     "text": [
      "--------------------1------------------\n"
     ]
    }
   ],
   "source": [
    "source_folder = r\"G:\\ILA2024\\nii_test\"\n",
    "unzip_files = os.listdir(source_folder)\n",
    "output_folder=r\"G:\\ILA2024\\nii_test\"\n",
    "i=1\n",
    "for unzip_file in unzip_files:\n",
    "    print(\"--------------------\" + str(i) + \"------------------\")\n",
    "    i=i+1\n",
    "    zip_file_path = os.path.join(source_folder, unzip_file)#每个病人\n",
    "    maxfile_path=find_max(zip_file_path)\n",
    "    #get_resolution_and_layers(maxfile_path)\n",
    "    #print(maxfile_path)\n",
    "    name=unzip_file+\".nii.gz\"\n",
    "    \n",
    "    outpath=os.path.join(output_folder,name)\n",
    "    #print(outpath)\n",
    "    \n",
    "    dic2nii_sitk(maxfile_path,outpath)"
   ]
  },
  {
   "cell_type": "code",
   "execution_count": 31,
   "id": "f5effdd6",
   "metadata": {},
   "outputs": [
    {
     "name": "stdout",
     "output_type": "stream",
     "text": [
      "Data has been written to output.csv\n"
     ]
    }
   ],
   "source": [
    "import os\n",
    "import nibabel as nib\n",
    "import pandas as pd\n",
    "\n",
    "\n",
    "folder_path = r\"G:\\ILA2024\\nii\"\n",
    "dataframe = get_resolution_and_layers(folder_path)\n",
    "\n",
    "# 将 DataFrame 写入 CSV 文件\n",
    "csv_file = \"output.csv\"\n",
    "dataframe.to_csv(csv_file, index=False)\n",
    "print(f\"Data has been written to {csv_file}\")\n"
   ]
  },
  {
   "cell_type": "markdown",
   "id": "0b31af5a",
   "metadata": {},
   "source": [
    "# 针对带有时序信息的"
   ]
  },
  {
   "cell_type": "code",
   "execution_count": null,
   "id": "64e68598",
   "metadata": {},
   "outputs": [],
   "source": [
    "\n",
    "#如果是时序的\n",
    "source_folder = r\"G:\\ILA2024\\ILA2024_dicom\"\n",
    "unzip_files = os.listdir(source_folder)\n",
    "output_folder=r\"G:\\ILA2024\\nii\"\n",
    "\n",
    "for unzip_file in unzip_files:\n",
    "    zip_file_path = os.path.join(source_folder, unzip_file)\n",
    "    filetimes= os.listdir(zip_file_path)\n",
    "    for filetime in filetimes:  #需要多一层时序层\n",
    "        file_path=os.path.join(zip_file_path,filetime)\n",
    "        #file_path=os.path.join(file_path,\"ST0\")\n",
    "        print(file_path)\n",
    "        maxfile_path=find_max(file_path)\n",
    "        name=unzip_file+\"_\"+filetime+\".nii.gz\"\n",
    "        print(maxfile_path)\n",
    "        outpath=os.path.join(output_folder,name)\n",
    "        \n",
    "        dic2nii_sitk(file_path,outpath)"
   ]
  },
  {
   "cell_type": "markdown",
   "id": "07a29bd0",
   "metadata": {},
   "source": [
    "# 文件夹里有._开头的文件  通过os.walk遍历删除"
   ]
  },
  {
   "cell_type": "code",
   "execution_count": 8,
   "id": "aaa6d402",
   "metadata": {},
   "outputs": [],
   "source": [
    "import os\n",
    "\n",
    "def remove_files_starting_with_dotunderscore(folder_path):\n",
    "    # 列出文件夹中的所有文件和子文件夹\n",
    "    for root, dirs, files in os.walk(folder_path):\n",
    "        for file in files:\n",
    "            # 如果文件名以“._”开头，则删除它\n",
    "            if file.startswith(\"._\"):\n",
    "                file_path = os.path.join(root, file)\n",
    "                os.remove(file_path)\n",
    "\n",
    "# 文件夹路径\n",
    "folder_path = r\"G:\\ILA2024\\ILA2024_dicom\"\n",
    "\n",
    "# 删除所有以“._”开头的文件\n",
    "remove_files_starting_with_dotunderscore(folder_path)\n"
   ]
  }
 ],
 "metadata": {
  "kernelspec": {
   "display_name": "Python 3 (ipykernel)",
   "language": "python",
   "name": "python3"
  },
  "language_info": {
   "codemirror_mode": {
    "name": "ipython",
    "version": 3
   },
   "file_extension": ".py",
   "mimetype": "text/x-python",
   "name": "python",
   "nbconvert_exporter": "python",
   "pygments_lexer": "ipython3",
   "version": "3.9.13"
  },
  "varInspector": {
   "cols": {
    "lenName": 16,
    "lenType": 16,
    "lenVar": 40
   },
   "kernels_config": {
    "python": {
     "delete_cmd_postfix": "",
     "delete_cmd_prefix": "del ",
     "library": "var_list.py",
     "varRefreshCmd": "print(var_dic_list())"
    },
    "r": {
     "delete_cmd_postfix": ") ",
     "delete_cmd_prefix": "rm(",
     "library": "var_list.r",
     "varRefreshCmd": "cat(var_dic_list()) "
    }
   },
   "types_to_exclude": [
    "module",
    "function",
    "builtin_function_or_method",
    "instance",
    "_Feature"
   ],
   "window_display": false
  }
 },
 "nbformat": 4,
 "nbformat_minor": 5
}
